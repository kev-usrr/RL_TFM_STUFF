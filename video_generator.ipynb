{
  "nbformat": 4,
  "nbformat_minor": 0,
  "metadata": {
    "colab": {
      "provenance": []
    },
    "kernelspec": {
      "name": "python3",
      "display_name": "Python 3"
    },
    "language_info": {
      "name": "python"
    }
  },
  "cells": [
    {
      "cell_type": "code",
      "execution_count": 1,
      "metadata": {
        "colab": {
          "base_uri": "https://localhost:8080/"
        },
        "id": "IJ7eDDDaif8Z",
        "outputId": "fa56757d-9140-43b5-ab58-b37975e1560c"
      },
      "outputs": [
        {
          "output_type": "stream",
          "name": "stdout",
          "text": [
            "Requirement already satisfied: pettingzoo in /usr/local/lib/python3.11/dist-packages (1.25.0)\n",
            "Requirement already satisfied: numpy>=1.21.0 in /usr/local/lib/python3.11/dist-packages (from pettingzoo) (2.0.2)\n",
            "Requirement already satisfied: gymnasium>=1.0.0 in /usr/local/lib/python3.11/dist-packages (from pettingzoo) (1.1.1)\n",
            "Requirement already satisfied: cloudpickle>=1.2.0 in /usr/local/lib/python3.11/dist-packages (from gymnasium>=1.0.0->pettingzoo) (3.1.1)\n",
            "Requirement already satisfied: typing-extensions>=4.3.0 in /usr/local/lib/python3.11/dist-packages (from gymnasium>=1.0.0->pettingzoo) (4.13.2)\n",
            "Requirement already satisfied: farama-notifications>=0.0.1 in /usr/local/lib/python3.11/dist-packages (from gymnasium>=1.0.0->pettingzoo) (0.0.4)\n",
            "Requirement already satisfied: stable_baselines3 in /usr/local/lib/python3.11/dist-packages (2.6.0)\n",
            "Requirement already satisfied: gymnasium<1.2.0,>=0.29.1 in /usr/local/lib/python3.11/dist-packages (from stable_baselines3) (1.1.1)\n",
            "Requirement already satisfied: numpy<3.0,>=1.20 in /usr/local/lib/python3.11/dist-packages (from stable_baselines3) (2.0.2)\n",
            "Requirement already satisfied: torch<3.0,>=2.3 in /usr/local/lib/python3.11/dist-packages (from stable_baselines3) (2.6.0+cu124)\n",
            "Requirement already satisfied: cloudpickle in /usr/local/lib/python3.11/dist-packages (from stable_baselines3) (3.1.1)\n",
            "Requirement already satisfied: pandas in /usr/local/lib/python3.11/dist-packages (from stable_baselines3) (2.2.2)\n",
            "Requirement already satisfied: matplotlib in /usr/local/lib/python3.11/dist-packages (from stable_baselines3) (3.10.0)\n",
            "Requirement already satisfied: typing-extensions>=4.3.0 in /usr/local/lib/python3.11/dist-packages (from gymnasium<1.2.0,>=0.29.1->stable_baselines3) (4.13.2)\n",
            "Requirement already satisfied: farama-notifications>=0.0.1 in /usr/local/lib/python3.11/dist-packages (from gymnasium<1.2.0,>=0.29.1->stable_baselines3) (0.0.4)\n",
            "Requirement already satisfied: filelock in /usr/local/lib/python3.11/dist-packages (from torch<3.0,>=2.3->stable_baselines3) (3.18.0)\n",
            "Requirement already satisfied: networkx in /usr/local/lib/python3.11/dist-packages (from torch<3.0,>=2.3->stable_baselines3) (3.4.2)\n",
            "Requirement already satisfied: jinja2 in /usr/local/lib/python3.11/dist-packages (from torch<3.0,>=2.3->stable_baselines3) (3.1.6)\n",
            "Requirement already satisfied: fsspec in /usr/local/lib/python3.11/dist-packages (from torch<3.0,>=2.3->stable_baselines3) (2025.3.2)\n",
            "Requirement already satisfied: nvidia-cuda-nvrtc-cu12==12.4.127 in /usr/local/lib/python3.11/dist-packages (from torch<3.0,>=2.3->stable_baselines3) (12.4.127)\n",
            "Requirement already satisfied: nvidia-cuda-runtime-cu12==12.4.127 in /usr/local/lib/python3.11/dist-packages (from torch<3.0,>=2.3->stable_baselines3) (12.4.127)\n",
            "Requirement already satisfied: nvidia-cuda-cupti-cu12==12.4.127 in /usr/local/lib/python3.11/dist-packages (from torch<3.0,>=2.3->stable_baselines3) (12.4.127)\n",
            "Requirement already satisfied: nvidia-cudnn-cu12==9.1.0.70 in /usr/local/lib/python3.11/dist-packages (from torch<3.0,>=2.3->stable_baselines3) (9.1.0.70)\n",
            "Requirement already satisfied: nvidia-cublas-cu12==12.4.5.8 in /usr/local/lib/python3.11/dist-packages (from torch<3.0,>=2.3->stable_baselines3) (12.4.5.8)\n",
            "Requirement already satisfied: nvidia-cufft-cu12==11.2.1.3 in /usr/local/lib/python3.11/dist-packages (from torch<3.0,>=2.3->stable_baselines3) (11.2.1.3)\n",
            "Requirement already satisfied: nvidia-curand-cu12==10.3.5.147 in /usr/local/lib/python3.11/dist-packages (from torch<3.0,>=2.3->stable_baselines3) (10.3.5.147)\n",
            "Requirement already satisfied: nvidia-cusolver-cu12==11.6.1.9 in /usr/local/lib/python3.11/dist-packages (from torch<3.0,>=2.3->stable_baselines3) (11.6.1.9)\n",
            "Requirement already satisfied: nvidia-cusparse-cu12==12.3.1.170 in /usr/local/lib/python3.11/dist-packages (from torch<3.0,>=2.3->stable_baselines3) (12.3.1.170)\n",
            "Requirement already satisfied: nvidia-cusparselt-cu12==0.6.2 in /usr/local/lib/python3.11/dist-packages (from torch<3.0,>=2.3->stable_baselines3) (0.6.2)\n",
            "Requirement already satisfied: nvidia-nccl-cu12==2.21.5 in /usr/local/lib/python3.11/dist-packages (from torch<3.0,>=2.3->stable_baselines3) (2.21.5)\n",
            "Requirement already satisfied: nvidia-nvtx-cu12==12.4.127 in /usr/local/lib/python3.11/dist-packages (from torch<3.0,>=2.3->stable_baselines3) (12.4.127)\n",
            "Requirement already satisfied: nvidia-nvjitlink-cu12==12.4.127 in /usr/local/lib/python3.11/dist-packages (from torch<3.0,>=2.3->stable_baselines3) (12.4.127)\n",
            "Requirement already satisfied: triton==3.2.0 in /usr/local/lib/python3.11/dist-packages (from torch<3.0,>=2.3->stable_baselines3) (3.2.0)\n",
            "Requirement already satisfied: sympy==1.13.1 in /usr/local/lib/python3.11/dist-packages (from torch<3.0,>=2.3->stable_baselines3) (1.13.1)\n",
            "Requirement already satisfied: mpmath<1.4,>=1.1.0 in /usr/local/lib/python3.11/dist-packages (from sympy==1.13.1->torch<3.0,>=2.3->stable_baselines3) (1.3.0)\n",
            "Requirement already satisfied: contourpy>=1.0.1 in /usr/local/lib/python3.11/dist-packages (from matplotlib->stable_baselines3) (1.3.2)\n",
            "Requirement already satisfied: cycler>=0.10 in /usr/local/lib/python3.11/dist-packages (from matplotlib->stable_baselines3) (0.12.1)\n",
            "Requirement already satisfied: fonttools>=4.22.0 in /usr/local/lib/python3.11/dist-packages (from matplotlib->stable_baselines3) (4.57.0)\n",
            "Requirement already satisfied: kiwisolver>=1.3.1 in /usr/local/lib/python3.11/dist-packages (from matplotlib->stable_baselines3) (1.4.8)\n",
            "Requirement already satisfied: packaging>=20.0 in /usr/local/lib/python3.11/dist-packages (from matplotlib->stable_baselines3) (24.2)\n",
            "Requirement already satisfied: pillow>=8 in /usr/local/lib/python3.11/dist-packages (from matplotlib->stable_baselines3) (11.2.1)\n",
            "Requirement already satisfied: pyparsing>=2.3.1 in /usr/local/lib/python3.11/dist-packages (from matplotlib->stable_baselines3) (3.2.3)\n",
            "Requirement already satisfied: python-dateutil>=2.7 in /usr/local/lib/python3.11/dist-packages (from matplotlib->stable_baselines3) (2.9.0.post0)\n",
            "Requirement already satisfied: pytz>=2020.1 in /usr/local/lib/python3.11/dist-packages (from pandas->stable_baselines3) (2025.2)\n",
            "Requirement already satisfied: tzdata>=2022.7 in /usr/local/lib/python3.11/dist-packages (from pandas->stable_baselines3) (2025.2)\n",
            "Requirement already satisfied: six>=1.5 in /usr/local/lib/python3.11/dist-packages (from python-dateutil>=2.7->matplotlib->stable_baselines3) (1.17.0)\n",
            "Requirement already satisfied: MarkupSafe>=2.0 in /usr/local/lib/python3.11/dist-packages (from jinja2->torch<3.0,>=2.3->stable_baselines3) (3.0.2)\n",
            "Requirement already satisfied: pymunk in /usr/local/lib/python3.11/dist-packages (6.11.1)\n",
            "Requirement already satisfied: cffi>=1.17.1 in /usr/local/lib/python3.11/dist-packages (from pymunk) (1.17.1)\n",
            "Requirement already satisfied: pycparser in /usr/local/lib/python3.11/dist-packages (from cffi>=1.17.1->pymunk) (2.22)\n",
            "Requirement already satisfied: Box2D in /usr/local/lib/python3.11/dist-packages (2.3.10)\n",
            "Requirement already satisfied: multi_agent_ale_py in /usr/local/lib/python3.11/dist-packages (0.1.11)\n",
            "Requirement already satisfied: numpy in /usr/local/lib/python3.11/dist-packages (from multi_agent_ale_py) (2.0.2)\n"
          ]
        }
      ],
      "source": [
        "!pip install pettingzoo\n",
        "!pip install stable_baselines3\n",
        "!pip install pymunk\n",
        "!pip install Box2D\n",
        "!pip install multi_agent_ale_py"
      ]
    },
    {
      "cell_type": "code",
      "source": [
        "from pz_wrapper_v2 import SupervisorWrapper\n",
        "from cooperative_pong_wrapper import CooperativePongWrapperSpeed\n",
        "from stable_baselines3 import PPO\n",
        "\n",
        "import imageio\n",
        "import numpy as np\n",
        "import os\n",
        "\n",
        "from pettingzoo.butterfly import cooperative_pong_v5 as pong\n",
        "from pettingzoo.butterfly import knights_archers_zombies_v10 as ka\n",
        "from pettingzoo.butterfly import pistonball_v6 as pb\n",
        "\n",
        "from pettingzoo.sisl import waterworld_v4 as ww\n",
        "from pettingzoo.sisl import multiwalker_v9 as mw\n",
        "from pettingzoo.sisl import pursuit_v4 as pur\n",
        "\n",
        "from pettingzoo.mpe import simple_reference_v3 as sr\n",
        "from pettingzoo.mpe import simple_speaker_listener_v4 as ssl\n",
        "from pettingzoo.mpe import simple_spread_v3 as ss\n",
        "\n",
        "from pettingzoo.atari import entombed_cooperative_v3"
      ],
      "metadata": {
        "colab": {
          "base_uri": "https://localhost:8080/"
        },
        "id": "HbrcA48OjERr",
        "outputId": "8ea5f98f-e4cb-455f-9218-4cb6f8c705ec"
      },
      "execution_count": 2,
      "outputs": [
        {
          "output_type": "stream",
          "name": "stderr",
          "text": [
            "/usr/local/lib/python3.11/dist-packages/pygame/pkgdata.py:25: DeprecationWarning: pkg_resources is deprecated as an API. See https://setuptools.pypa.io/en/latest/pkg_resources.html\n",
            "  from pkg_resources import resource_stream, resource_exists\n",
            "/usr/local/lib/python3.11/dist-packages/pkg_resources/__init__.py:3154: DeprecationWarning: Deprecated call to `pkg_resources.declare_namespace('google')`.\n",
            "Implementing implicit namespace packages (as specified in PEP 420) is preferred to `pkg_resources.declare_namespace`. See https://setuptools.pypa.io/en/latest/references/keywords.html#keyword-namespace-packages\n",
            "  declare_namespace(pkg)\n",
            "/usr/local/lib/python3.11/dist-packages/pkg_resources/__init__.py:3154: DeprecationWarning: Deprecated call to `pkg_resources.declare_namespace('google.cloud')`.\n",
            "Implementing implicit namespace packages (as specified in PEP 420) is preferred to `pkg_resources.declare_namespace`. See https://setuptools.pypa.io/en/latest/references/keywords.html#keyword-namespace-packages\n",
            "  declare_namespace(pkg)\n",
            "/usr/local/lib/python3.11/dist-packages/pkg_resources/__init__.py:3154: DeprecationWarning: Deprecated call to `pkg_resources.declare_namespace('sphinxcontrib')`.\n",
            "Implementing implicit namespace packages (as specified in PEP 420) is preferred to `pkg_resources.declare_namespace`. See https://setuptools.pypa.io/en/latest/references/keywords.html#keyword-namespace-packages\n",
            "  declare_namespace(pkg)\n",
            "<frozen importlib._bootstrap>:241: DeprecationWarning: builtin type SwigPyPacked has no __module__ attribute\n",
            "<frozen importlib._bootstrap>:241: DeprecationWarning: builtin type SwigPyObject has no __module__ attribute\n",
            "<frozen importlib._bootstrap>:241: DeprecationWarning: builtin type swigvarlink has no __module__ attribute\n",
            "<ipython-input-2-e80e9ceec495>:17: DeprecationWarning: The environment `pettingzoo.mpe` has been moved to `mpe2` and will be removed in a future release.Please update your imports.\n",
            "  from pettingzoo.mpe import simple_reference_v3 as sr\n",
            "/usr/local/lib/python3.11/dist-packages/pettingzoo/utils/deprecated_module.py:70: DeprecationWarning: The environment `pettingzoo.mpe.simple_reference_v3` has been moved to `mpe2.simple_reference_v3` and will be removed in a future release. Please update your imports.\n",
            "  spec.loader.exec_module(module)\n",
            "/usr/local/lib/python3.11/dist-packages/pettingzoo/utils/deprecated_module.py:70: DeprecationWarning: The environment `pettingzoo.mpe.speaker_listener_v4` has been moved to `mpe2.simple_speaker_listener_v4` and will be removed in a future release. Please update your imports.\n",
            "  spec.loader.exec_module(module)\n",
            "/usr/local/lib/python3.11/dist-packages/pettingzoo/utils/deprecated_module.py:70: DeprecationWarning: The environment `pettingzoo.mpe.simple_spread_v3` has been moved to `mpe2.simple_spread_v3` and will be removed in a future release. Please update your imports.\n",
            "  spec.loader.exec_module(module)\n"
          ]
        }
      ]
    },
    {
      "cell_type": "code",
      "source": [
        "def create_video(env, model, video_name, num_episodes=1):\n",
        "  frames = []\n",
        "  for _ in range(num_episodes):\n",
        "    obs, _ = env.reset()\n",
        "    done = False\n",
        "\n",
        "    while not done:\n",
        "        # print(f'OBS: {obs}')\n",
        "        action, _ = model.predict(obs, deterministic=True)\n",
        "        if action.size == 1:\n",
        "          action = int(action)\n",
        "        # print(f'ACTION: {action}')\n",
        "        # print(f'ACTION SPACE: {env.action_space}')\n",
        "        obs, reward, done, trunc, _ = env.step(action)\n",
        "        frames.append(env.render())\n",
        "\n",
        "  # Cerrar entorno\n",
        "  env.close()\n",
        "  # Guardar vídeo\n",
        "  imageio.mimsave(video_name, frames, fps=30)"
      ],
      "metadata": {
        "id": "mUFhA-Fnj3N0"
      },
      "execution_count": 3,
      "outputs": []
    },
    {
      "cell_type": "code",
      "source": [
        "env = SupervisorWrapper(CooperativePongWrapperSpeed(pong.env(render_mode='rgb_array')))\n",
        "model = PPO.load('pong_wrap_speed_model_ppo.zip')\n",
        "create_video(env, model, os.path.join('videos', 'pong_wrap_speed.mp4'))"
      ],
      "metadata": {
        "colab": {
          "base_uri": "https://localhost:8080/"
        },
        "id": "D26An7emsZ1L",
        "outputId": "a0d5b3a2-d936-4fd5-fccb-acce2716bbf3"
      },
      "execution_count": 4,
      "outputs": [
        {
          "output_type": "stream",
          "name": "stdout",
          "text": [
            "pong_vectorized_speed\n",
            "ACTION SPACES: {'paddle_0': Discrete(3), 'paddle_1': Discrete(3)}\n",
            "OBSERVATION SPACES: {'paddle_0': Box(-inf, inf, (10,), float32), 'paddle_1': Box(-inf, inf, (10,), float32)}\n",
            "\n"
          ]
        },
        {
          "output_type": "stream",
          "name": "stderr",
          "text": [
            "WARNING:imageio_ffmpeg:IMAGEIO FFMPEG_WRITER WARNING: input image is not divisible by macro_block_size=16, resizing from (480, 280) to (480, 288) to ensure video compatibility with most codecs and players. To prevent resizing, make your input image divisible by the macro_block_size or set the macro_block_size to 1 (risking incompatibility).\n"
          ]
        }
      ]
    },
    {
      "cell_type": "code",
      "source": [
        "env = SupervisorWrapper(ka.env(render_mode='rgb_array'))\n",
        "model = PPO.load('zombies_model_ppo.zip')\n",
        "create_video(env, model, os.path.join('videos','zombies.mp4'))"
      ],
      "metadata": {
        "colab": {
          "base_uri": "https://localhost:8080/"
        },
        "id": "uN5U2BcNsgtq",
        "outputId": "d5904749-b7bc-44fc-bd43-237f3b7e3582"
      },
      "execution_count": 5,
      "outputs": [
        {
          "output_type": "stream",
          "name": "stdout",
          "text": [
            "knights_archers_zombies_v10\n",
            "ACTION SPACES: {'archer_0': Discrete(6), 'archer_1': Discrete(6), 'knight_0': Discrete(6), 'knight_1': Discrete(6)}\n",
            "OBSERVATION SPACES: {'archer_0': Box(-inf, inf, (139,), float32), 'archer_1': Box(-inf, inf, (139,), float32), 'knight_0': Box(-inf, inf, (139,), float32), 'knight_1': Box(-inf, inf, (139,), float32)}\n",
            "\n"
          ]
        }
      ]
    },
    {
      "cell_type": "code",
      "source": [
        "env = SupervisorWrapper(mw.env(render_mode='rgb_array'))\n",
        "model = PPO.load('multiwalker_model_ppo.zip')\n",
        "create_video(env, model, os.path.join('videos', 'multiwalker.mp4'))"
      ],
      "metadata": {
        "colab": {
          "base_uri": "https://localhost:8080/"
        },
        "id": "8WvmIAp6s56b",
        "outputId": "dd754592-8ddf-46e5-a266-c315f7eb0a19"
      },
      "execution_count": 6,
      "outputs": [
        {
          "output_type": "stream",
          "name": "stdout",
          "text": [
            "multiwalker_v9\n",
            "ACTION SPACES: {'walker_0': Box(-1.0, 1.0, (4,), float32), 'walker_1': Box(-1.0, 1.0, (4,), float32), 'walker_2': Box(-1.0, 1.0, (4,), float32)}\n",
            "OBSERVATION SPACES: {'walker_0': Box(-inf, inf, (43,), float32), 'walker_1': Box(-inf, inf, (43,), float32), 'walker_2': Box(-inf, inf, (43,), float32)}\n",
            "\n"
          ]
        },
        {
          "output_type": "stream",
          "name": "stderr",
          "text": [
            "WARNING:imageio_ffmpeg:IMAGEIO FFMPEG_WRITER WARNING: input image is not divisible by macro_block_size=16, resizing from (600, 400) to (608, 400) to ensure video compatibility with most codecs and players. To prevent resizing, make your input image divisible by the macro_block_size or set the macro_block_size to 1 (risking incompatibility).\n"
          ]
        }
      ]
    },
    {
      "cell_type": "code",
      "source": [
        "env = SupervisorWrapper(ww.env(render_mode='rgb_array'))\n",
        "model = PPO.load('waterworld_model_ppo.zip')\n",
        "create_video(env, model, os.path.join('videos', 'waterworld.mp4'))"
      ],
      "metadata": {
        "colab": {
          "base_uri": "https://localhost:8080/"
        },
        "id": "2Fj9DKFds-G6",
        "outputId": "33b434fc-5e26-493e-9ab5-ec1a3e9b444f"
      },
      "execution_count": 7,
      "outputs": [
        {
          "output_type": "stream",
          "name": "stdout",
          "text": [
            "waterworld_v4\n",
            "ACTION SPACES: {'pursuer_0': Box(-1.0, 1.0, (2,), float32), 'pursuer_1': Box(-1.0, 1.0, (2,), float32)}\n",
            "OBSERVATION SPACES: {'pursuer_0': Box(-inf, inf, (246,), float32), 'pursuer_1': Box(-inf, inf, (246,), float32)}\n",
            "\n"
          ]
        },
        {
          "output_type": "stream",
          "name": "stderr",
          "text": [
            "WARNING:imageio_ffmpeg:IMAGEIO FFMPEG_WRITER WARNING: input image is not divisible by macro_block_size=16, resizing from (750, 750) to (752, 752) to ensure video compatibility with most codecs and players. To prevent resizing, make your input image divisible by the macro_block_size or set the macro_block_size to 1 (risking incompatibility).\n"
          ]
        }
      ]
    },
    {
      "cell_type": "code",
      "source": [
        "env = SupervisorWrapper(sr.env(render_mode='rgb_array'))\n",
        "model = PPO.load('simple_reference_model_ppo.zip')\n",
        "create_video(env, model, os.path.join('videos','simple_reference.mp4'), num_episodes=10)"
      ],
      "metadata": {
        "colab": {
          "base_uri": "https://localhost:8080/"
        },
        "id": "MAVH9wljtBAH",
        "outputId": "af851fcb-81e1-4204-e514-8af1a3ea4cdb"
      },
      "execution_count": 8,
      "outputs": [
        {
          "output_type": "stream",
          "name": "stdout",
          "text": [
            "simple_reference_v3\n",
            "ACTION SPACES: {'agent_0': Discrete(50), 'agent_1': Discrete(50)}\n",
            "OBSERVATION SPACES: {'agent_0': Box(-inf, inf, (23,), float32), 'agent_1': Box(-inf, inf, (23,), float32)}\n",
            "\n"
          ]
        },
        {
          "output_type": "stream",
          "name": "stderr",
          "text": [
            "WARNING:imageio_ffmpeg:IMAGEIO FFMPEG_WRITER WARNING: input image is not divisible by macro_block_size=16, resizing from (700, 700) to (704, 704) to ensure video compatibility with most codecs and players. To prevent resizing, make your input image divisible by the macro_block_size or set the macro_block_size to 1 (risking incompatibility).\n"
          ]
        }
      ]
    },
    {
      "cell_type": "code",
      "source": [
        "env = SupervisorWrapper(ss.env(render_mode='rgb_array'))\n",
        "model = PPO.load('simple_spread_model_ppo.zip')\n",
        "create_video(env, model, os.path.join('videos', 'simple_spread.mp4'), num_episodes=10)"
      ],
      "metadata": {
        "colab": {
          "base_uri": "https://localhost:8080/"
        },
        "id": "9cG6guzxtDvE",
        "outputId": "c2781d7a-f752-4d1f-84e0-e7b28cff661c"
      },
      "execution_count": 9,
      "outputs": [
        {
          "output_type": "stream",
          "name": "stdout",
          "text": [
            "simple_spread_v3\n",
            "ACTION SPACES: {'agent_0': Discrete(5), 'agent_1': Discrete(5), 'agent_2': Discrete(5)}\n",
            "OBSERVATION SPACES: {'agent_0': Box(-inf, inf, (21,), float32), 'agent_1': Box(-inf, inf, (21,), float32), 'agent_2': Box(-inf, inf, (21,), float32)}\n",
            "\n"
          ]
        },
        {
          "output_type": "stream",
          "name": "stderr",
          "text": [
            "WARNING:imageio_ffmpeg:IMAGEIO FFMPEG_WRITER WARNING: input image is not divisible by macro_block_size=16, resizing from (700, 700) to (704, 704) to ensure video compatibility with most codecs and players. To prevent resizing, make your input image divisible by the macro_block_size or set the macro_block_size to 1 (risking incompatibility).\n"
          ]
        }
      ]
    },
    {
      "cell_type": "code",
      "source": [
        "env = SupervisorWrapper(pur.env(render_mode='rgb_array'))\n",
        "model = PPO.load('pursuit_model_ppo.zip')\n",
        "create_video(env, model, os.path.join('videos', 'pursuit.mp4'))"
      ],
      "metadata": {
        "colab": {
          "base_uri": "https://localhost:8080/"
        },
        "id": "DM9TstGOwxBQ",
        "outputId": "9a66b3eb-5c1c-45ca-d1fa-7a81b215c4d6"
      },
      "execution_count": 10,
      "outputs": [
        {
          "output_type": "stream",
          "name": "stdout",
          "text": [
            "pursuit_v4\n",
            "ACTION SPACES: {'pursuer_0': Discrete(5), 'pursuer_1': Discrete(5), 'pursuer_2': Discrete(5), 'pursuer_3': Discrete(5), 'pursuer_4': Discrete(5), 'pursuer_5': Discrete(5), 'pursuer_6': Discrete(5), 'pursuer_7': Discrete(5)}\n",
            "OBSERVATION SPACES: {'pursuer_0': Box(-inf, inf, (155,), float32), 'pursuer_1': Box(-inf, inf, (155,), float32), 'pursuer_2': Box(-inf, inf, (155,), float32), 'pursuer_3': Box(-inf, inf, (155,), float32), 'pursuer_4': Box(-inf, inf, (155,), float32), 'pursuer_5': Box(-inf, inf, (155,), float32), 'pursuer_6': Box(-inf, inf, (155,), float32), 'pursuer_7': Box(-inf, inf, (155,), float32)}\n",
            "\n"
          ]
        }
      ]
    },
    {
      "cell_type": "code",
      "source": [],
      "metadata": {
        "id": "qA9w0xC4znfI"
      },
      "execution_count": null,
      "outputs": []
    }
  ]
}