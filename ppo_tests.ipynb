{
  "nbformat": 4,
  "nbformat_minor": 0,
  "metadata": {
    "colab": {
      "provenance": [],
      "machine_shape": "hm",
      "gpuType": "L4"
    },
    "kernelspec": {
      "name": "python3",
      "display_name": "Python 3"
    },
    "language_info": {
      "name": "python"
    },
    "accelerator": "GPU"
  },
  "cells": [
    {
      "cell_type": "code",
      "execution_count": null,
      "metadata": {
        "id": "hVa6VzaXn3_0"
      },
      "outputs": [],
      "source": [
        "!pip install torch-scatter -f https://data.pyg.org/whl/torch-2.5.0+cu124.html\n",
        "!pip install gym\n",
        "!pip install pettingzoo\n",
        "!pip install pymunk\n",
        "!pip install sacred\n",
        "!pip install 'vmas[gymnasium]'\n",
        "# !pip install multi-agent-ale-py\n",
        "# !pip install \"autorom[accept-rom-license]\"\n",
        "# !AutoROM\n",
        "# !pip install pymarlzooplus"
      ]
    },
    {
      "cell_type": "code",
      "source": [
        "!git clone https://github.com/uoe-agents/epymarl.git\n",
        "!pip install -r epymarl/pac_requirements.txt"
      ],
      "metadata": {
        "id": "Kwdzx2nfqdAZ"
      },
      "execution_count": null,
      "outputs": []
    },
    {
      "cell_type": "code",
      "source": [
        "!git clone https://github.com/uoe-agents/smaclite.git\n",
        "!pip install smaclite/"
      ],
      "metadata": {
        "id": "UUj8ZUcty-bw"
      },
      "execution_count": null,
      "outputs": []
    },
    {
      "cell_type": "code",
      "source": [
        "!sudo apt-get install swig\n",
        "!git clone https://github.com/AILabDsUnipi/pymarlzooplus.git\n",
        "%cd pymarlzooplus\n",
        "!pip install -e .\n",
        "%cd .."
      ],
      "metadata": {
        "id": "KC7fOsXQCUKm"
      },
      "execution_count": null,
      "outputs": []
    },
    {
      "cell_type": "code",
      "source": [
        "!sudo apt-get install automake\n",
        "!sudo apt-get install libtool\n",
        "!sudo apt-get install pkg-config\n",
        "!curl -L https://github.com/libspatialindex/libspatialindex/archive/1.8.5.tar.gz | tar xz\n",
        "%cd libspatialindex-1.8.5/\n",
        "!./autogen.sh\n",
        "!./configure\n",
        "!make\n",
        "!sudo make install\n",
        "!sudo ldconfig"
      ],
      "metadata": {
        "id": "lEoEurdQz9Q_"
      },
      "execution_count": null,
      "outputs": []
    },
    {
      "cell_type": "code",
      "source": [
        "%cd .."
      ],
      "metadata": {
        "colab": {
          "base_uri": "https://localhost:8080/"
        },
        "id": "0g6MyWz90zHH",
        "outputId": "d380c7fb-c3f7-4746-cd50-144647556c77"
      },
      "execution_count": 3,
      "outputs": [
        {
          "output_type": "stream",
          "name": "stdout",
          "text": [
            "/content\n"
          ]
        }
      ]
    },
    {
      "cell_type": "code",
      "source": [
        "import subprocess\n",
        "import json\n",
        "\n",
        "FILE_NAMES = ['cooperative_pong.json']\n",
        "env_args   = []\n",
        "\n",
        "for file_path in FILE_NAMES:\n",
        "  with open(file_path, 'r') as file:\n",
        "    data = json.load(file)\n",
        "    env_args.append(data['env_args'])\n",
        "\n",
        "env_arg_list = [[f'env_args.{k}={v}' for k, v in env_arg.items()] for env_arg in env_args]\n",
        "print(env_arg_list)"
      ],
      "metadata": {
        "colab": {
          "base_uri": "https://localhost:8080/"
        },
        "id": "TP9xCTHo-3ZH",
        "outputId": "e5c05815-2f70-4b11-ead1-2531fee3f2c4"
      },
      "execution_count": 11,
      "outputs": [
        {
          "output_type": "stream",
          "name": "stdout",
          "text": [
            "[['env_args.key=pz-butterfly-cooperative-pong', 'env_args.seed=32', 'env_args.time_limit=900', 'env_args.partial_observation=False', 'env_args.trainable_cnn=False', 'env_args.image_encoder=ResNet18', 'env_args.image_encoder_batch_size=10', 'env_args.image_encoder_use_cuda=True', 'env_args.centralized_image_encoding=True', 'env_args.kwargs=']]\n"
          ]
        }
      ]
    },
    {
      "cell_type": "code",
      "source": [
        "# Comando base\n",
        "for env_conf in env_arg_list:\n",
        "  command = [\n",
        "      \"python\", \"epymarl/src/main.py\",\n",
        "      \"--config=mappo\",\n",
        "      \"--env-config=gymma\",\n",
        "      \"with\"\n",
        "  ] + env_conf\n",
        "\n",
        "  # Ejecutar el comando\n",
        "  subprocess.run(command)"
      ],
      "metadata": {
        "id": "sFUsjj9GAuWQ"
      },
      "execution_count": 12,
      "outputs": []
    },
    {
      "cell_type": "code",
      "source": [
        "!python pymarlzooplus/pymarlzooplus/main.py --config=mappo --env-config=pettingzoo with env_args.time_limit=900 env_args.key=\"pistonball_v6\""
      ],
      "metadata": {
        "colab": {
          "base_uri": "https://localhost:8080/"
        },
        "id": "4K1qluDVxg__",
        "outputId": "81f7726d-887c-479b-a8bf-0557f1432ff4"
      },
      "execution_count": 19,
      "outputs": [
        {
          "output_type": "stream",
          "name": "stdout",
          "text": [
            "[INFO 12:46:01] root Saving to FileStorageObserver in results/sacred.\n",
            "[INFO 12:46:02] pymarlzooplus Running command 'my_main'\n",
            "[INFO 12:46:02] pymarlzooplus Started run with ID \"4\"\n",
            "[INFO 12:46:02] my_main Experiment Parameters:\n",
            "[INFO 12:46:02] my_main \n",
            "\n",
            "{   'action_selector': 'soft_policies',\n",
            "    'action_selector_strategy': 'basic_selector_strategy',\n",
            "    'add_value_last_step': True,\n",
            "    'agent': 'rnn',\n",
            "    'agent_output_type': 'pi_logits',\n",
            "    'batch_size': 2,\n",
            "    'batch_size_run': 2,\n",
            "    'buffer_cpu_only': True,\n",
            "    'buffer_size': 2,\n",
            "    'checkpoint_path': '',\n",
            "    'cnn_features_dim': 128,\n",
            "    'critic_type': 'cv_critic',\n",
            "    'entropy_coef': 0.01,\n",
            "    'env': 'pettingzoo',\n",
            "    'env_args': {   'centralized_image_encoding': True,\n",
            "                    'image_encoder': 'ResNet18',\n",
            "                    'image_encoder_batch_size': 1,\n",
            "                    'image_encoder_use_cuda': True,\n",
            "                    'key': 'pistonball_v6',\n",
            "                    'kwargs': '',\n",
            "                    'partial_observation': False,\n",
            "                    'render_mode': 'rgb_array',\n",
            "                    'seed': 174050461,\n",
            "                    'time_limit': 900,\n",
            "                    'trainable_cnn': False},\n",
            "    'epochs': 4,\n",
            "    'eps_clip': 0.2,\n",
            "    'evaluate': False,\n",
            "    'extra_in_buffer': [   ],\n",
            "    'gamma': 0.99,\n",
            "    'grad_norm_clip': 10,\n",
            "    'has_explorer': False,\n",
            "    'hidden_dim': 64,\n",
            "    'hypergroup': None,\n",
            "    'label': 'default_label',\n",
            "    'learner': 'ppo_learner',\n",
            "    'learner_log_interval': 1000,\n",
            "    'load_step': 0,\n",
            "    'local_results_path': 'results',\n",
            "    'log_interval': 500,\n",
            "    'lr': 0.0005,\n",
            "    'mac': 'basic_mac',\n",
            "    'mask_before_softmax': True,\n",
            "    'name': 'mappo',\n",
            "    'num_circle': 1,\n",
            "    'obs_agent_id': True,\n",
            "    'obs_individual_obs': False,\n",
            "    'obs_last_action': True,\n",
            "    'optim_alpha': 0.99,\n",
            "    'optim_eps': 1e-05,\n",
            "    'prioritized_buffer': False,\n",
            "    'q_nstep': 5,\n",
            "    'render': False,\n",
            "    'repeat_id': 1,\n",
            "    'runner': 'parallel',\n",
            "    'runner_log_interval': 1000,\n",
            "    'save_model': False,\n",
            "    'save_model_interval': 50000,\n",
            "    'save_replay': False,\n",
            "    'seed': 174050461,\n",
            "    'standardise_returns': False,\n",
            "    'standardise_rewards': True,\n",
            "    't_max': 5050000,\n",
            "    'target_update_interval_or_tau': 200,\n",
            "    'test_greedy': True,\n",
            "    'test_interval': 500,\n",
            "    'test_nepisode': 10,\n",
            "    'use_cuda': False,\n",
            "    'use_cuda_cnn_modules': True,\n",
            "    'use_rnn': True,\n",
            "    'use_tensorboard': False}\n",
            "\n",
            "[INFO 12:46:04] my_main Loading pretrained ResNet18 model...\n",
            "Process Process-2:\n",
            "Traceback (most recent call last):\n",
            "  File \"/usr/lib/python3.11/multiprocessing/process.py\", line 314, in _bootstrap\n",
            "    self.run()\n",
            "  File \"/usr/lib/python3.11/multiprocessing/process.py\", line 108, in run\n",
            "    self._target(*self._args, **self._kwargs)\n",
            "  File \"/content/pymarlzooplus/pymarlzooplus/runners/parallel_runner.py\", line 315, in env_worker\n",
            "    env = env_fn.x()\n",
            "          ^^^^^^^^^^\n",
            "  File \"/content/pymarlzooplus/pymarlzooplus/envs/__init__.py\", line 29, in env_fn\n",
            "    return env(**kwargs)\n",
            "           ^^^^^^^^^^^^^\n",
            "  File \"/content/pymarlzooplus/pymarlzooplus/envs/pettingzoo_wrapper.py\", line 410, in __init__\n",
            "    self.set_environment(\n",
            "  File \"/content/pymarlzooplus/pymarlzooplus/envs/pettingzoo_wrapper.py\", line 499, in set_environment\n",
            "    self._env = ObservationPZ(\n",
            "                ^^^^^^^^^^^^^^\n",
            "  File \"/content/pymarlzooplus/pymarlzooplus/envs/pettingzoo_wrapper.py\", line 204, in __init__\n",
            "    self.image_encoder = ImageEncoder(\n",
            "                         ^^^^^^^^^^^^^\n",
            "  File \"/content/pymarlzooplus/pymarlzooplus/utils/image_encoder.py\", line 31, in __init__\n",
            "    assert not (self.centralized_image_encoding is True and self.called_from == \"env\"), \\\n",
            "           ^^^^^^^^^^^^^^^^^^^^^^^^^^^^^^^^^^^^^^^^^^^^^^^^^^^^^^^^^^^^^^^^^^^^^^^^^^^\n",
            "AssertionError: 'centralized_image_encoding' cannot be True when 'called_from' is 'env'!\n",
            "Process Process-1:\n",
            "Traceback (most recent call last):\n",
            "  File \"/usr/lib/python3.11/multiprocessing/process.py\", line 314, in _bootstrap\n",
            "    self.run()\n",
            "  File \"/usr/lib/python3.11/multiprocessing/process.py\", line 108, in run\n",
            "    self._target(*self._args, **self._kwargs)\n",
            "  File \"/content/pymarlzooplus/pymarlzooplus/runners/parallel_runner.py\", line 315, in env_worker\n",
            "    env = env_fn.x()\n",
            "          ^^^^^^^^^^\n",
            "  File \"/content/pymarlzooplus/pymarlzooplus/envs/__init__.py\", line 29, in env_fn\n",
            "    return env(**kwargs)\n",
            "           ^^^^^^^^^^^^^\n",
            "  File \"/content/pymarlzooplus/pymarlzooplus/envs/pettingzoo_wrapper.py\", line 410, in __init__\n",
            "    self.set_environment(\n",
            "  File \"/content/pymarlzooplus/pymarlzooplus/envs/pettingzoo_wrapper.py\", line 499, in set_environment\n",
            "    self._env = ObservationPZ(\n",
            "                ^^^^^^^^^^^^^^\n",
            "  File \"/content/pymarlzooplus/pymarlzooplus/envs/pettingzoo_wrapper.py\", line 204, in __init__\n",
            "    self.image_encoder = ImageEncoder(\n",
            "                         ^^^^^^^^^^^^^\n",
            "  File \"/content/pymarlzooplus/pymarlzooplus/utils/image_encoder.py\", line 31, in __init__\n",
            "    assert not (self.centralized_image_encoding is True and self.called_from == \"env\"), \\\n",
            "           ^^^^^^^^^^^^^^^^^^^^^^^^^^^^^^^^^^^^^^^^^^^^^^^^^^^^^^^^^^^^^^^^^^^^^^^^^^^\n",
            "AssertionError: 'centralized_image_encoding' cannot be True when 'called_from' is 'env'!\n",
            "[WARNING 12:47:03] pymarlzooplus Aborted after 0:01:02!\n",
            "Traceback (most recent call last):\n",
            "  File \"/usr/local/lib/python3.11/dist-packages/sacred/config/captured_function.py\", line 42, in captured_function\n",
            "    result = wrapped(*args, **kwargs)\n",
            "             ^^^^^^^^^^^^^^^^^^^^^^^^\n",
            "  File \"/content/pymarlzooplus/pymarlzooplus/main.py\", line 48, in my_main\n",
            "    run(_run, config, _log)\n",
            "  File \"/content/pymarlzooplus/pymarlzooplus/run.py\", line 70, in run\n",
            "    run_sequential(args=args, logger=logger)\n",
            "  File \"/content/pymarlzooplus/pymarlzooplus/run.py\", line 106, in run_sequential\n",
            "    runner = r_REGISTRY[args.runner](args=args, logger=logger)\n",
            "             ^^^^^^^^^^^^^^^^^^^^^^^^^^^^^^^^^^^^^^^^^^^^^^^^^\n",
            "  File \"/content/pymarlzooplus/pymarlzooplus/runners/parallel_runner.py\", line 76, in __init__\n",
            "    print_info = self.parent_conns[0].recv()\n",
            "                 ^^^^^^^^^^^^^^^^^^^^^^^^^^^\n",
            "  File \"/usr/lib/python3.11/multiprocessing/connection.py\", line 250, in recv\n",
            "    buf = self._recv_bytes()\n",
            "          ^^^^^^^^^^^^^^^^^^\n",
            "  File \"/usr/lib/python3.11/multiprocessing/connection.py\", line 430, in _recv_bytes\n",
            "    buf = self._recv(4)\n",
            "          ^^^^^^^^^^^^^\n",
            "  File \"/usr/lib/python3.11/multiprocessing/connection.py\", line 395, in _recv\n",
            "    chunk = read(handle, remaining)\n",
            "            ^^^^^^^^^^^^^^^^^^^^^^^\n",
            "KeyboardInterrupt\n",
            "\n",
            "During handling of the above exception, another exception occurred:\n",
            "\n",
            "Traceback (most recent call last):\n",
            "  File \"/content/pymarlzooplus/pymarlzooplus/main.py\", line 197, in <module>\n",
            "    pymarlzooplus(_params)\n",
            "  File \"/content/pymarlzooplus/pymarlzooplus/main.py\", line 190, in pymarlzooplus\n",
            "    ex.run_commandline(params)\n",
            "  File \"/usr/local/lib/python3.11/dist-packages/sacred/experiment.py\", line 313, in run_commandline\n",
            "    return self.run(\n",
            "           ^^^^^^^^^\n",
            "  File \"/usr/local/lib/python3.11/dist-packages/sacred/experiment.py\", line 277, in run\n",
            "    run()\n",
            "  File \"/usr/local/lib/python3.11/dist-packages/sacred/run.py\", line 238, in __call__\n",
            "    self.result = self.main_function(*args)\n",
            "                  ^^^^^^^^^^^^^^^^^^^^^^^^^\n",
            "  File \"/usr/local/lib/python3.11/dist-packages/sacred/config/captured_function.py\", line 41, in captured_function\n",
            "    with ConfigError.track(wrapped.config, wrapped.prefix):\n",
            "  File \"/usr/lib/python3.11/contextlib.py\", line 141, in __exit__\n",
            "    def __exit__(self, typ, value, traceback):\n",
            "\n",
            "KeyboardInterrupt\n",
            "^C\n"
          ]
        }
      ]
    },
    {
      "cell_type": "code",
      "source": [
        "!python pymarlzooplus/pymarlzooplus/main.py --config=qmix --env-config=pettingzoo with env_args.time_limit=900 env_args.key=\"pistonball_v6\""
      ],
      "metadata": {
        "colab": {
          "base_uri": "https://localhost:8080/"
        },
        "id": "s9-pDCmgMX7w",
        "outputId": "6dc4436f-122f-41d3-c31a-c993a1a318a1"
      },
      "execution_count": null,
      "outputs": [
        {
          "metadata": {
            "tags": null
          },
          "name": "stdout",
          "output_type": "stream",
          "text": [
            "[INFO 12:51:24] root Saving to FileStorageObserver in results/sacred.\n",
            "[INFO 12:51:24] pymarlzooplus Running command 'my_main'\n",
            "[INFO 12:51:24] pymarlzooplus Started run with ID \"3\"\n",
            "[WARNING 12:51:24] my_main 'centralized_image_encoding' was turned to False since only 1 env process is running!\n",
            "[INFO 12:51:24] my_main Experiment Parameters:\n",
            "[INFO 12:51:24] my_main \n",
            "\n",
            "{   'action_selector': 'epsilon_greedy',\n",
            "    'action_selector_strategy': 'basic_selector_strategy',\n",
            "    'add_value_last_step': True,\n",
            "    'agent': 'rnn',\n",
            "    'agent_output_type': 'q',\n",
            "    'batch_size': 2,\n",
            "    'batch_size_run': 1,\n",
            "    'buffer_cpu_only': True,\n",
            "    'buffer_size': 2,\n",
            "    'checkpoint_path': '',\n",
            "    'cnn_features_dim': 128,\n",
            "    'double_q': True,\n",
            "    'env': 'pettingzoo',\n",
            "    'env_args': {   'centralized_image_encoding': False,\n",
            "                    'image_encoder': 'ResNet18',\n",
            "                    'image_encoder_batch_size': 1,\n",
            "                    'image_encoder_use_cuda': True,\n",
            "                    'key': 'pistonball_v6',\n",
            "                    'kwargs': '',\n",
            "                    'partial_observation': False,\n",
            "                    'render_mode': 'rgb_array',\n",
            "                    'seed': 43020673,\n",
            "                    'time_limit': 900,\n",
            "                    'trainable_cnn': False},\n",
            "    'epsilon_anneal_time': 50000,\n",
            "    'epsilon_finish': 0.05,\n",
            "    'epsilon_start': 1.0,\n",
            "    'evaluate': False,\n",
            "    'evaluation_epsilon': 0.0,\n",
            "    'extra_in_buffer': [   ],\n",
            "    'gamma': 0.99,\n",
            "    'grad_norm_clip': 10,\n",
            "    'has_explorer': False,\n",
            "    'hidden_dim': 64,\n",
            "    'hypergroup': None,\n",
            "    'hypernet_embed': 64,\n",
            "    'hypernet_layers': 2,\n",
            "    'label': 'default_label',\n",
            "    'learner': 'q_learner',\n",
            "    'learner_log_interval': 1000,\n",
            "    'load_step': 0,\n",
            "    'local_results_path': 'results',\n",
            "    'log_interval': 500,\n",
            "    'lr': 0.0005,\n",
            "    'mac': 'basic_mac',\n",
            "    'mixer': 'qmix',\n",
            "    'mixing_embed_dim': 32,\n",
            "    'name': 'qmix',\n",
            "    'num_circle': 1,\n",
            "    'obs_agent_id': True,\n",
            "    'obs_individual_obs': False,\n",
            "    'obs_last_action': True,\n",
            "    'optim_alpha': 0.99,\n",
            "    'optim_eps': 1e-05,\n",
            "    'prioritized_buffer': False,\n",
            "    'prioritized_buffer_alpha': 0.6,\n",
            "    'render': False,\n",
            "    'repeat_id': 1,\n",
            "    'runner': 'episode',\n",
            "    'runner_log_interval': 1000,\n",
            "    'save_model': False,\n",
            "    'save_model_interval': 50000,\n",
            "    'save_replay': False,\n",
            "    'seed': 43020673,\n",
            "    'standardise_returns': False,\n",
            "    'standardise_rewards': True,\n",
            "    't_max': 2000,\n",
            "    'target_update_interval_or_tau': 200,\n",
            "    'test_greedy': True,\n",
            "    'test_interval': 500,\n",
            "    'test_nepisode': 10,\n",
            "    'use_cuda': False,\n",
            "    'use_cuda_cnn_modules': True,\n",
            "    'use_rnn': True,\n",
            "    'use_tensorboard': False}\n",
            "\n",
            "[INFO 12:51:27] my_main \n",
            "[INFO 12:51:27] episode_runner Loading pretrained ResNet18 model...\n",
            "[INFO 12:51:27] my_main Beginning training for 2000 timesteps\n",
            "[INFO 12:52:59] my_main t_env: 900 / 2000\n",
            "[INFO 12:52:59] my_main Estimated time left: 1 minutes, 12 seconds. Time passed: 1 minutes, 31 seconds\n"
          ]
        }
      ]
    }
  ]
}